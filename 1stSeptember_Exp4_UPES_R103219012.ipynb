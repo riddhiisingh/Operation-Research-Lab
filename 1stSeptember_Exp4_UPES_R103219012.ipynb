{
  "nbformat": 4,
  "nbformat_minor": 0,
  "metadata": {
    "colab": {
      "name": "1st September_Exp_2_3_UPES_R103219012.ipynb",
      "provenance": [],
      "authorship_tag": "ABX9TyMwdPsxuxyWOqlZ2ieSj1S+",
      "include_colab_link": true
    },
    "kernelspec": {
      "name": "python3",
      "display_name": "Python 3"
    },
    "language_info": {
      "name": "python"
    }
  },
  "cells": [
    {
      "cell_type": "markdown",
      "metadata": {
        "id": "view-in-github",
        "colab_type": "text"
      },
      "source": [
        "<a href=\"https://colab.research.google.com/github/riddhiisingh/Operation-Research-Lab/blob/main/1stSeptember_Exp4_UPES_R103219012.ipynb\" target=\"_parent\"><img src=\"https://colab.research.google.com/assets/colab-badge.svg\" alt=\"Open In Colab\"/></a>"
      ]
    },
    {
      "cell_type": "markdown",
      "metadata": {
        "id": "9s3uYvEldUEz"
      },
      "source": [
        "OPERATION RESEARCH AND OPTIMIZATION LAB - 1st September\n",
        "\n",
        "\n",
        "Submitted By Riddhi Singh 500076026 R103219012 BTECH CSE BAO"
      ]
    },
    {
      "cell_type": "markdown",
      "metadata": {
        "id": "YfyfsDiOdcfo"
      },
      "source": [
        "Q1. Maximize:-\n",
        "\n",
        "   z= 7x1 + 10x2\n",
        "\n",
        "   Subject To:-\n",
        "\n",
        "   -x1+ 3x2 <= 6\n",
        "\n",
        "   7x1+x2 <=35\n",
        "\n",
        "   x1,x2>=0 and integers"
      ]
    },
    {
      "cell_type": "code",
      "metadata": {
        "id": "aaz9b_yqdLrP"
      },
      "source": [
        "import cvxpy as cp\n"
      ],
      "execution_count": null,
      "outputs": []
    },
    {
      "cell_type": "code",
      "metadata": {
        "id": "dDwNd3_-dmO6"
      },
      "source": [
        "x1 = cp.Variable()\n",
        "x2 = cp.Variable()"
      ],
      "execution_count": null,
      "outputs": []
    },
    {
      "cell_type": "code",
      "metadata": {
        "id": "nYT2bmG6dk9I"
      },
      "source": [
        "constraints = [ -x1 + 3*x2 <= 6,\n",
        "               7*x1 + x2 <= 35,\n",
        "               x1>=0,\n",
        "               x2>=0]"
      ],
      "execution_count": null,
      "outputs": []
    },
    {
      "cell_type": "code",
      "metadata": {
        "id": "UAOsHl5-d_F1"
      },
      "source": [
        "obj1 = cp.Maximize((7*x1 + 10*x2))"
      ],
      "execution_count": null,
      "outputs": []
    },
    {
      "cell_type": "code",
      "metadata": {
        "id": "rsyF_ZSLeFuk"
      },
      "source": [
        "solution = cp.Problem(obj1, constraints)"
      ],
      "execution_count": null,
      "outputs": []
    },
    {
      "cell_type": "code",
      "metadata": {
        "colab": {
          "base_uri": "https://localhost:8080/"
        },
        "id": "EccgOlBefDo-",
        "outputId": "ffc8f156-226d-4bae-811d-eeddd523b527"
      },
      "source": [
        "solution.solve()"
      ],
      "execution_count": null,
      "outputs": [
        {
          "output_type": "execute_result",
          "data": {
            "text/plain": [
              "66.4999999374403"
            ]
          },
          "metadata": {},
          "execution_count": 17
        }
      ]
    },
    {
      "cell_type": "markdown",
      "metadata": {
        "id": "2ULnHR8kgCFF"
      },
      "source": [
        "\n",
        "Q2. Maximize:-\n",
        "\n",
        "  z=5x1+8x2\n",
        "\n",
        "  Subject To:-\n",
        "\n",
        "  x1+x2 <=6\n",
        "\n",
        "  5x1+9x2 <=45\n",
        "\n",
        "  x1,x2 >=0 and integers"
      ]
    },
    {
      "cell_type": "code",
      "metadata": {
        "id": "Cf0mlNbwgE76"
      },
      "source": [
        "x1 = cp.Variable()\n",
        "x2 = cp.Variable()"
      ],
      "execution_count": null,
      "outputs": []
    },
    {
      "cell_type": "code",
      "metadata": {
        "id": "byS7PxRlgIpT"
      },
      "source": [
        "constraints = [x1 + x2 <= 6,\n",
        "               5*x1 + 9*x2 <= 45,\n",
        "               x1>=0,\n",
        "               x2>=0]"
      ],
      "execution_count": null,
      "outputs": []
    },
    {
      "cell_type": "code",
      "metadata": {
        "id": "nt93uXtqgfqD"
      },
      "source": [
        "obj2 = cp.Maximize(5*x1 + 8*x2 )"
      ],
      "execution_count": null,
      "outputs": []
    },
    {
      "cell_type": "code",
      "metadata": {
        "id": "_liXqIx8gfxl"
      },
      "source": [
        "solution = cp.Problem(obj2, constraints)"
      ],
      "execution_count": null,
      "outputs": []
    },
    {
      "cell_type": "code",
      "metadata": {
        "colab": {
          "base_uri": "https://localhost:8080/"
        },
        "id": "E2J2DjLqgf1q",
        "outputId": "0aba9bc5-b261-4f5a-e9b0-e77dcae88693"
      },
      "source": [
        "solution.solve()"
      ],
      "execution_count": null,
      "outputs": [
        {
          "output_type": "execute_result",
          "data": {
            "text/plain": [
              "41.24999999702171"
            ]
          },
          "metadata": {},
          "execution_count": 25
        }
      ]
    },
    {
      "cell_type": "markdown",
      "metadata": {
        "id": "TNAMSeDWgxXP"
      },
      "source": [
        "\n",
        "Q3. A machine is used to produce two interchangeable products. The daily capacity of the machine can produce at most 20 units of product 1 and 10 units of product 2. Alternatively, the machine can be adjusted to produce at most 12 units of product 1 and 25 units of product 2 daily. Market analysis shows that the maximum daily demand for the two products combined is 35 units. Given that the unit profits for the two respective products are $10 and $12, which of the two machine settings should be selected?\n",
        "\n",
        "Formulate the problem as an IPP and find the optimum."
      ]
    },
    {
      "cell_type": "code",
      "metadata": {
        "id": "_7kOjhU8gf5L"
      },
      "source": [
        "x1 = cp.Variable(integer = True)\n",
        "x2 = cp.Variable(integer = True)"
      ],
      "execution_count": 33,
      "outputs": []
    },
    {
      "cell_type": "code",
      "metadata": {
        "id": "QQasReVqgf8R"
      },
      "source": [
        "constraints = [x1 + x2 <= 35,\n",
        "               25*x1-12*x2 <= 0,\n",
        "               12*x1-10*x2 <= 0,\n",
        "               x1>=0,\n",
        "               x2>=0]\n"
      ],
      "execution_count": 34,
      "outputs": []
    },
    {
      "cell_type": "code",
      "metadata": {
        "id": "F8NmqWTfgf_J"
      },
      "source": [
        "obj3 = cp.Maximize((10*x1)+(12*x2))\n",
        "\n"
      ],
      "execution_count": 35,
      "outputs": []
    },
    {
      "cell_type": "code",
      "metadata": {
        "colab": {
          "base_uri": "https://localhost:8080/"
        },
        "id": "BWvqLb1SggBy",
        "outputId": "4b905478-0529-4c8f-d9f3-8678978fa470"
      },
      "source": [
        "solution = cp.Problem(obj3, constraints)\n",
        "solution.solve()\n"
      ],
      "execution_count": 36,
      "outputs": [
        {
          "output_type": "execute_result",
          "data": {
            "text/plain": [
              "420.0"
            ]
          },
          "metadata": {},
          "execution_count": 36
        }
      ]
    },
    {
      "cell_type": "code",
      "metadata": {
        "colab": {
          "base_uri": "https://localhost:8080/"
        },
        "id": "kSQr72fnhILq",
        "outputId": "3c6b7463-da0b-4556-d660-ba4a30a76390"
      },
      "source": [
        "print(\"Value of x1:\", x1.value)\n",
        "print(\"Value of x2:\", x2.value)\n",
        "print(\"Value of obj:\",solution.value)"
      ],
      "execution_count": 38,
      "outputs": [
        {
          "output_type": "stream",
          "name": "stdout",
          "text": [
            "Value of x1: 0.0\n",
            "Value of x2: 35.0\n",
            "Value of obj: 420.0\n"
          ]
        }
      ]
    },
    {
      "cell_type": "code",
      "metadata": {
        "id": "-ZGoZleriFND"
      },
      "source": [
        ""
      ],
      "execution_count": null,
      "outputs": []
    }
  ]
}