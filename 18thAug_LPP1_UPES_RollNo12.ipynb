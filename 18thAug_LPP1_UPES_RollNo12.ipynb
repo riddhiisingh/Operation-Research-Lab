{
  "nbformat": 4,
  "nbformat_minor": 0,
  "metadata": {
    "colab": {
      "name": "LPP_1_RiddhiSingh_500076026_BAO",
      "provenance": [],
      "authorship_tag": "ABX9TyOMiSCtlTF0w3AczgXQx/ji",
      "include_colab_link": true
    },
    "kernelspec": {
      "name": "python3",
      "display_name": "Python 3"
    },
    "language_info": {
      "name": "python"
    }
  },
  "cells": [
    {
      "cell_type": "markdown",
      "metadata": {
        "id": "view-in-github",
        "colab_type": "text"
      },
      "source": [
        "<a href=\"https://colab.research.google.com/github/riddhiisingh/Operation-Research-Lab/blob/main/18thAug_LPP1_UPES_RollNo12.ipynb\" target=\"_parent\"><img src=\"https://colab.research.google.com/assets/colab-badge.svg\" alt=\"Open In Colab\"/></a>"
      ]
    },
    {
      "cell_type": "markdown",
      "metadata": {
        "id": "s_lkJFHNYbin"
      },
      "source": [
        "**OPERATION RESEARCH AND OPTIMIZATION LAB - 18TH AUGUST**\n",
        "*Submitted By*\n",
        "Riddhi Singh\n",
        "500076026\n",
        "R103219012\n",
        "BTECH CSE BAO"
      ]
    },
    {
      "cell_type": "code",
      "metadata": {
        "id": "OX5f9hnhXezn"
      },
      "source": [
        "from scipy.optimize import linprog"
      ],
      "execution_count": null,
      "outputs": []
    },
    {
      "cell_type": "code",
      "metadata": {
        "id": "9CKPKg5nXpV-"
      },
      "source": [
        "obj = [1, 1]"
      ],
      "execution_count": null,
      "outputs": []
    },
    {
      "cell_type": "code",
      "metadata": {
        "id": "e-NDLK2TXrPp"
      },
      "source": [
        "lhs_ineq = [[ 1,  2],[2,  1]]\n",
        "rhs_ineq = [6, 6]"
      ],
      "execution_count": null,
      "outputs": []
    },
    {
      "cell_type": "code",
      "metadata": {
        "id": "tStgJeGfXsxP"
      },
      "source": [
        "bnd = [(0, float(\"inf\")), (0, float(\"inf\"))]  # Bounds of x & y"
      ],
      "execution_count": null,
      "outputs": []
    },
    {
      "cell_type": "code",
      "metadata": {
        "id": "BDhv1Wx9Xuao"
      },
      "source": [
        "opt = linprog(c=obj, A_ub=lhs_ineq, b_ub=rhs_ineq,\n",
        "           bounds=bnd,\n",
        "            method=\"revised simplex\")"
      ],
      "execution_count": null,
      "outputs": []
    },
    {
      "cell_type": "code",
      "metadata": {
        "colab": {
          "base_uri": "https://localhost:8080/"
        },
        "id": "hFw51zw_X1Er",
        "outputId": "7555dda1-c829-423b-d971-557761d0d1bf"
      },
      "source": [
        "opt"
      ],
      "execution_count": null,
      "outputs": [
        {
          "output_type": "execute_result",
          "data": {
            "text/plain": [
              "     con: array([], dtype=float64)\n",
              "     fun: 0.0\n",
              " message: 'Optimization terminated successfully.'\n",
              "     nit: 0\n",
              "   slack: array([6., 6.])\n",
              "  status: 0\n",
              " success: True\n",
              "       x: array([0., 0.])"
            ]
          },
          "metadata": {
            "tags": []
          },
          "execution_count": 6
        }
      ]
    }
  ]
}