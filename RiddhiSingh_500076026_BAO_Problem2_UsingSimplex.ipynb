{
  "nbformat": 4,
  "nbformat_minor": 0,
  "metadata": {
    "colab": {
      "name": "RiddhiSingh_500076026_BAO_Problem2_UsingSimplex.ipynb",
      "provenance": [],
      "collapsed_sections": [],
      "authorship_tag": "ABX9TyPUL73OwOXy8ceY7YdMTX0q",
      "include_colab_link": true
    },
    "kernelspec": {
      "name": "python3",
      "display_name": "Python 3"
    },
    "language_info": {
      "name": "python"
    }
  },
  "cells": [
    {
      "cell_type": "markdown",
      "metadata": {
        "id": "view-in-github",
        "colab_type": "text"
      },
      "source": [
        "<a href=\"https://colab.research.google.com/github/riddhiisingh/Operation-Research-Lab/blob/main/RiddhiSingh_500076026_BAO_Problem2_UsingSimplex.ipynb\" target=\"_parent\"><img src=\"https://colab.research.google.com/assets/colab-badge.svg\" alt=\"Open In Colab\"/></a>"
      ]
    },
    {
      "cell_type": "markdown",
      "metadata": {
        "id": "P8F6O4rAROPM"
      },
      "source": [
        "\n",
        "\n",
        "**Operation Research and Optimization Lab**\n",
        "*Problem 2 - Implemented using Simplex method*\n",
        "Submitted by :\n",
        "Riddhi Singh,\n",
        "Roll No : R103219012, \n",
        "SAP ID : 500076026,\n",
        "Btech CSE BAO - 5th Sem\n"
      ]
    },
    {
      "cell_type": "code",
      "metadata": {
        "colab": {
          "base_uri": "https://localhost:8080/"
        },
        "id": "JJMNlLKNRNRf",
        "outputId": "7c6b7461-d944-446d-c8cd-c9d77db53575"
      },
      "source": [
        "!pip install scipy"
      ],
      "execution_count": null,
      "outputs": [
        {
          "output_type": "stream",
          "text": [
            "Requirement already satisfied: scipy in /usr/local/lib/python3.7/dist-packages (1.4.1)\n",
            "Requirement already satisfied: numpy>=1.13.3 in /usr/local/lib/python3.7/dist-packages (from scipy) (1.19.5)\n"
          ],
          "name": "stdout"
        }
      ]
    },
    {
      "cell_type": "code",
      "metadata": {
        "id": "LcvYQyjbRYvG"
      },
      "source": [
        "from scipy.optimize import linprog"
      ],
      "execution_count": null,
      "outputs": []
    },
    {
      "cell_type": "code",
      "metadata": {
        "id": "pKK_gTTGRbFS"
      },
      "source": [
        "import time"
      ],
      "execution_count": null,
      "outputs": []
    },
    {
      "cell_type": "markdown",
      "metadata": {
        "id": "qbb_-10yReg1"
      },
      "source": [
        "#PROBLEM\n",
        "\n",
        "lp_problem += 3 * x1 - 4 * x2 + 3 * x3, \"Z\"\n",
        "\n",
        "#Constraints\n",
        "lp_problem += 5 * x1 + 6 * x2 + 2 * x3 <= 5\n",
        "lp_problem += - x1 + 3 * x2 + 5 * x3 >= 8\n",
        "lp_problem += 2 * x1 + 5 * x2 - 4 * x3 <= 4\n",
        "x1,x2,x3>=0"
      ]
    },
    {
      "cell_type": "code",
      "metadata": {
        "id": "dt6omVaeRfjr"
      },
      "source": [
        "c = [3, -4, 3]\n",
        "A = [[5, 6, 2], [1, -3, -5], [2, 5, -4]]\n",
        "b = [5, -8, 4]\n",
        "x1_bnds = (0, None)\n",
        "x2_bnds = (0, None)\n",
        "x3_bnds = (0, None)"
      ],
      "execution_count": null,
      "outputs": []
    },
    {
      "cell_type": "code",
      "metadata": {
        "id": "yuQpiehjRnwF"
      },
      "source": [
        "time_1 = time.time()"
      ],
      "execution_count": null,
      "outputs": []
    },
    {
      "cell_type": "code",
      "metadata": {
        "colab": {
          "base_uri": "https://localhost:8080/"
        },
        "id": "BlE_qlRvRx9W",
        "outputId": "6cf34571-26aa-47a9-8232-c6a7baf7a207"
      },
      "source": [
        "\n",
        "res = linprog(c,  A,  b, bounds=(x1_bnds, x2_bnds, x3_bnds))"
      ],
      "execution_count": null,
      "outputs": [
        {
          "output_type": "stream",
          "text": [
            "/usr/local/lib/python3.7/dist-packages/numpy/core/fromnumeric.py:87: VisibleDeprecationWarning: Creating an ndarray from ragged nested sequences (which is a list-or-tuple of lists-or-tuples-or ndarrays with different lengths or shapes) is deprecated. If you meant to do this, you must specify 'dtype=object' when creating the ndarray\n",
            "  return ufunc.reduce(obj, axis, dtype, out, **passkwargs)\n"
          ],
          "name": "stderr"
        }
      ]
    },
    {
      "cell_type": "code",
      "metadata": {
        "id": "x6kXUHfZRqJU"
      },
      "source": [
        "time_2 = time.time()"
      ],
      "execution_count": null,
      "outputs": []
    },
    {
      "cell_type": "code",
      "metadata": {
        "colab": {
          "base_uri": "https://localhost:8080/"
        },
        "id": "YpI8DgICRrbv",
        "outputId": "60e24eb4-a1eb-4132-c829-d8c2a5ba6957"
      },
      "source": [
        "print(time_2-time_1)"
      ],
      "execution_count": null,
      "outputs": [
        {
          "output_type": "stream",
          "text": [
            "10.904053926467896\n"
          ],
          "name": "stdout"
        }
      ]
    },
    {
      "cell_type": "code",
      "metadata": {
        "colab": {
          "base_uri": "https://localhost:8080/"
        },
        "id": "9VWLL_2zRwQR",
        "outputId": "8233c85d-450c-4ed6-dbab-1c07eedda2d6"
      },
      "source": [
        "print(res)"
      ],
      "execution_count": null,
      "outputs": [
        {
          "output_type": "stream",
          "text": [
            "     con: array([], dtype=float64)\n",
            "     fun: 2.625000000020542\n",
            " message: 'Optimization terminated successfully.'\n",
            "     nit: 5\n",
            "   slack: array([-2.06092921e-11,  3.07274206e-11,  7.62500000e+00])\n",
            "  status: 0\n",
            " success: True\n",
            "       x: array([1.20074181e-12, 3.75000000e-01, 1.37500000e+00])\n"
          ],
          "name": "stdout"
        }
      ]
    }
  ]
}