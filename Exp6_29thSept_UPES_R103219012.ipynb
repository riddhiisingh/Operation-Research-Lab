{
  "nbformat": 4,
  "nbformat_minor": 0,
  "metadata": {
    "colab": {
      "name": "29thSept_Exp6_UPES_R103219012.ipynb",
      "provenance": [],
      "authorship_tag": "ABX9TyNTYI0oaBZEM5jwoR9bj8LK",
      "include_colab_link": true
    },
    "kernelspec": {
      "name": "python3",
      "display_name": "Python 3"
    },
    "language_info": {
      "name": "python"
    }
  },
  "cells": [
    {
      "cell_type": "markdown",
      "metadata": {
        "id": "view-in-github",
        "colab_type": "text"
      },
      "source": [
        "<a href=\"https://colab.research.google.com/github/riddhiisingh/Operation-Research-Lab/blob/main/29thSept_Exp6_UPES_R103219012.ipynb\" target=\"_parent\"><img src=\"https://colab.research.google.com/assets/colab-badge.svg\" alt=\"Open In Colab\"/></a>"
      ]
    },
    {
      "cell_type": "markdown",
      "metadata": {
        "id": "droQpBJSbupd"
      },
      "source": [
        "\n",
        "OPERATION RESEARCH AND OPTIMIZATION LAB - 29th September Submitted By Riddhi Singh 500076026 R103219012 BTECH CSE BAO"
      ]
    },
    {
      "cell_type": "code",
      "metadata": {
        "id": "iQJ-LqY2UE3z"
      },
      "source": [
        "from scipy.optimize import linprog"
      ],
      "execution_count": 7,
      "outputs": []
    },
    {
      "cell_type": "markdown",
      "metadata": {
        "id": "xFeVHupRclt4"
      },
      "source": [
        "Question 1\n",
        "\n",
        "Consider a Belgian company Volsay, which specializes in producing ammoniac gas (NH3) and ammonium chloride (NH4Cl). Volsay has at its disposal 50 units of nitrogen (N), 180 units of hydrogen (H), and 40 units of chlorine (Cl). The company makes a profit of 40 Euros for each sale of an ammoniac gas unit and 50 Euros for each sale of an ammonium chloride unit. Volsay would like a production plan maximizing its profits given its available stocks."
      ]
    },
    {
      "cell_type": "code",
      "metadata": {
        "id": "Ui6e1SL2cppX"
      },
      "source": [
        "obj = [-40 ,-50]"
      ],
      "execution_count": 8,
      "outputs": []
    },
    {
      "cell_type": "code",
      "metadata": {
        "id": "tbvG2LdCcrXJ"
      },
      "source": [
        "lhs_ineq = [[ 3, 4],[1, 1],[0, 1]]\n",
        "rhs_ineq = [180, 50, 40]"
      ],
      "execution_count": 9,
      "outputs": []
    },
    {
      "cell_type": "code",
      "metadata": {
        "id": "txKRxL8mcrZo"
      },
      "source": [
        "bnd = [(0, float(\"inf\")), (0, float(\"inf\"))]"
      ],
      "execution_count": 10,
      "outputs": []
    },
    {
      "cell_type": "code",
      "metadata": {
        "id": "TfSD4VWccrcG"
      },
      "source": [
        "opt = linprog(c=obj, A_ub=lhs_ineq, b_ub=rhs_ineq, bounds=bnd, method=\"revised simplex\")"
      ],
      "execution_count": 11,
      "outputs": []
    },
    {
      "cell_type": "code",
      "metadata": {
        "colab": {
          "base_uri": "https://localhost:8080/"
        },
        "id": "SxkVkhsKcred",
        "outputId": "1babbcd9-832a-40e7-a984-3d5ff7b818c5"
      },
      "source": [
        "opt"
      ],
      "execution_count": 12,
      "outputs": [
        {
          "output_type": "execute_result",
          "data": {
            "text/plain": [
              "     con: array([], dtype=float64)\n",
              "     fun: -2300.0\n",
              " message: 'Optimization terminated successfully.'\n",
              "     nit: 3\n",
              "   slack: array([ 0.,  0., 10.])\n",
              "  status: 0\n",
              " success: True\n",
              "       x: array([20., 30.])"
            ]
          },
          "metadata": {},
          "execution_count": 12
        }
      ]
    },
    {
      "cell_type": "markdown",
      "metadata": {
        "id": "FDq33Bznc_ya"
      },
      "source": [
        "Question 2\n",
        "\n",
        "On October 1 a company received a contract to supply 6000 units of specialized product . the term of contract require that 1000 unit be shipped in October , 3000 units in November and 2000 units in December . the company can manufacture 1500 units in a month on a regular time and 750 units per month in overtime. The manufacturing cost per item produced in regular time is Rs 3 and the cost per item produced during overtime is Rs 5.The monthly storage cost is Rs 1.Formulate this problem as LP model so as to minimize total cost."
      ]
    },
    {
      "cell_type": "code",
      "metadata": {
        "id": "dgjNzCnacrhH"
      },
      "source": [
        "\n",
        "obj = [5, 4, 3, 7, 6, 5, -5000]"
      ],
      "execution_count": 13,
      "outputs": []
    },
    {
      "cell_type": "code",
      "metadata": {
        "id": "u5eteGe1crjX"
      },
      "source": [
        "lhs_ineq = [[-1, 0, 0, -1, 0, 0, 0],[-1, -1, 0, -1, -1, 0, 0]]\n",
        "rhs_ineq = [-1000, -4000]"
      ],
      "execution_count": 14,
      "outputs": []
    },
    {
      "cell_type": "code",
      "metadata": {
        "id": "dYabjV2LdJ0V"
      },
      "source": [
        "lhs_eq = [[1, 1, 1, 1, 1, 1, 0],[0, 0, 0, 0, 0, 0, 1]]\n",
        "rhs_eq = [6000, 1]"
      ],
      "execution_count": 15,
      "outputs": []
    },
    {
      "cell_type": "code",
      "metadata": {
        "id": "GJCTHo1bdJ3C"
      },
      "source": [
        "bnd = [(0, 1500), (0, 1500), (0, 1500), (0,750), (0,750), (0,750), (1,1)]"
      ],
      "execution_count": 16,
      "outputs": []
    },
    {
      "cell_type": "code",
      "metadata": {
        "id": "qeXw7L_5dJ5l"
      },
      "source": [
        "opt = linprog(c=obj,A_eq=lhs_eq, b_eq=rhs_eq, A_ub=lhs_ineq, b_ub=rhs_ineq, bounds=bnd, method=\"revised simplex\")"
      ],
      "execution_count": 17,
      "outputs": []
    },
    {
      "cell_type": "code",
      "metadata": {
        "colab": {
          "base_uri": "https://localhost:8080/"
        },
        "id": "nVNftJLkdJ8K",
        "outputId": "391dabd3-f093-4943-a543-8238b2a6fc5a"
      },
      "source": [
        "opt = linprog(c=obj,A_eq=lhs_eq, b_eq=rhs_eq, A_ub=lhs_ineq, b_ub=rhs_ineq, bounds=bnd, method=\"revised simplex\")\n",
        "opt"
      ],
      "execution_count": 18,
      "outputs": [
        {
          "output_type": "execute_result",
          "data": {
            "text/plain": [
              "     con: array([0., 0.])\n",
              "     fun: 21750.0\n",
              " message: 'Optimization terminated successfully.'\n",
              "     nit: 7\n",
              "   slack: array([750.,   0.])\n",
              "  status: 0\n",
              " success: True\n",
              "       x: array([1.5e+03, 1.5e+03, 1.5e+03, 2.5e+02, 7.5e+02, 5.0e+02, 1.0e+00])"
            ]
          },
          "metadata": {},
          "execution_count": 18
        }
      ]
    },
    {
      "cell_type": "markdown",
      "metadata": {
        "id": "_LweQ_e1dSVM"
      },
      "source": [
        "Question 3\n",
        "\n",
        "Maximize Z=4x1+3x2\n",
        "Subject to\n",
        "2x1+x2 ≤ 1000\n",
        "x1+x2 ≤ 800\n",
        "x1 ≤ 400\n",
        "x2 ≤ 700, x1,x2 ≥0"
      ]
    },
    {
      "cell_type": "code",
      "metadata": {
        "id": "11mKWYM5dV7-"
      },
      "source": [
        "obj = [-4, -3]"
      ],
      "execution_count": 19,
      "outputs": []
    },
    {
      "cell_type": "code",
      "metadata": {
        "id": "X96DknLVdV-m"
      },
      "source": [
        "lhs_ineq = [[2, 1],[1, 1]]\n",
        "rhs_ineq = [1000, 800]"
      ],
      "execution_count": 20,
      "outputs": []
    },
    {
      "cell_type": "code",
      "metadata": {
        "id": "Zsp6ylIcdWBA"
      },
      "source": [
        "bnd = [(0, 400), (0, 700)]"
      ],
      "execution_count": 21,
      "outputs": []
    },
    {
      "cell_type": "code",
      "metadata": {
        "id": "q3_ReYmFdWDy"
      },
      "source": [
        "opt = linprog(c=obj, A_ub=lhs_ineq, b_ub=rhs_ineq, bounds=bnd, method=\"revised simplex\")"
      ],
      "execution_count": 22,
      "outputs": []
    },
    {
      "cell_type": "code",
      "metadata": {
        "colab": {
          "base_uri": "https://localhost:8080/"
        },
        "id": "7D-uE8XRdZp_",
        "outputId": "f729222d-091f-4077-ebda-1599861cfb53"
      },
      "source": [
        "opt"
      ],
      "execution_count": 23,
      "outputs": [
        {
          "output_type": "execute_result",
          "data": {
            "text/plain": [
              "     con: array([], dtype=float64)\n",
              "     fun: -2600.0\n",
              " message: 'Optimization terminated successfully.'\n",
              "     nit: 3\n",
              "   slack: array([0., 0.])\n",
              "  status: 0\n",
              " success: True\n",
              "       x: array([200., 600.])"
            ]
          },
          "metadata": {},
          "execution_count": 23
        }
      ]
    }
  ]
}
