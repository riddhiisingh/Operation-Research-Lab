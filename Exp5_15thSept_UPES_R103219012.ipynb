{
  "nbformat": 4,
  "nbformat_minor": 0,
  "metadata": {
    "colab": {
      "name": "15thSept_Exp5_UPES_R103219012.ipynb",
      "provenance": [],
      "include_colab_link": true
    },
    "kernelspec": {
      "name": "python3",
      "display_name": "Python 3"
    },
    "language_info": {
      "name": "python"
    }
  },
  "cells": [
    {
      "cell_type": "markdown",
      "metadata": {
        "id": "view-in-github",
        "colab_type": "text"
      },
      "source": [
        "<a href=\"https://colab.research.google.com/github/riddhiisingh/Operation-Research-Lab/blob/main/15thSept_Exp5_UPES_R103219012.ipynb\" target=\"_parent\"><img src=\"https://colab.research.google.com/assets/colab-badge.svg\" alt=\"Open In Colab\"/></a>"
      ]
    },
    {
      "cell_type": "markdown",
      "metadata": {
        "id": "gnydE0xpsqmO"
      },
      "source": [
        "OPERATION RESEARCH AND OPTIMIZATION LAB - 15th September Submitted By Riddhi Singh 500076026 R103219012 BTECH CSE BAO\n",
        "\n"
      ]
    },
    {
      "cell_type": "code",
      "metadata": {
        "id": "Ik1NDCsMsqUa"
      },
      "source": [
        "from scipy.optimize import linprog"
      ],
      "execution_count": 1,
      "outputs": []
    },
    {
      "cell_type": "markdown",
      "metadata": {
        "id": "6MoBzk4yaxVM"
      },
      "source": [
        "Q1)\t maximize  Z = 3X1 + 2X2 + 3X3\n",
        "\n",
        "Subject to,\n",
        "2X1 + X2 + X3 = 2\n",
        "\n",
        "X1 + 3X2 + X3 =6\n",
        "\n",
        "3X1 + 4X2 + 2X3 =8\n",
        "\n",
        "X1 ,X2 , X3 ≥0\n",
        "\n",
        "\n"
      ]
    },
    {
      "cell_type": "code",
      "metadata": {
        "id": "LgXDJCvQbJZn"
      },
      "source": [
        "c = [-3, -2, -3]\n",
        "A = [[2, 1, 1], [1, 3, 1], [3, 4, 2]]\n",
        "b = [2, 6, 8]"
      ],
      "execution_count": 3,
      "outputs": []
    },
    {
      "cell_type": "code",
      "metadata": {
        "id": "m3CLPwWEs0qc"
      },
      "source": [
        "x1_bound = (0, None)\n",
        "x2_bound = (0, None)\n",
        "x3_bound = (0, None)"
      ],
      "execution_count": 4,
      "outputs": []
    },
    {
      "cell_type": "code",
      "metadata": {
        "colab": {
          "base_uri": "https://localhost:8080/"
        },
        "id": "eBegLd4Xs2nc",
        "outputId": "575c9b0e-fc9b-4d71-807f-a8068927e2ac"
      },
      "source": [
        "solution = linprog(c, A_eq = A, b_eq = b, bounds=[x1_bound, x2_bound, x3_bound], method = \"simplex\")"
      ],
      "execution_count": 5,
      "outputs": [
        {
          "output_type": "stream",
          "name": "stderr",
          "text": [
            "/usr/local/lib/python3.7/dist-packages/ipykernel_launcher.py:1: OptimizeWarning: A_eq does not appear to be of full row rank. To improve performance, check the problem formulation for redundant equality constraints.\n",
            "  \"\"\"Entry point for launching an IPython kernel.\n"
          ]
        }
      ]
    },
    {
      "cell_type": "code",
      "metadata": {
        "colab": {
          "base_uri": "https://localhost:8080/"
        },
        "id": "32pA9v48s20B",
        "outputId": "d1beca27-a0c1-4bb7-9ab1-8dd1c4463a40"
      },
      "source": [
        "solution"
      ],
      "execution_count": 6,
      "outputs": [
        {
          "output_type": "execute_result",
          "data": {
            "text/plain": [
              "     con: array([0., 0., 0.])\n",
              "     fun: -4.0\n",
              " message: 'Optimization terminated successfully.'\n",
              "     nit: 3\n",
              "   slack: array([], dtype=float64)\n",
              "  status: 0\n",
              " success: True\n",
              "       x: array([0., 2., 0.])"
            ]
          },
          "metadata": {},
          "execution_count": 6
        }
      ]
    },
    {
      "cell_type": "markdown",
      "metadata": {
        "id": "OMUE2K9Yau2p"
      },
      "source": [
        "\n",
        "Q2)\tminimize  Z = 3X1 - 4X2 + 3X3 \n",
        "\n",
        "Subject to,\n",
        "\n",
        " 5X1 + 6X2 + 2X3 ≤ 5\n",
        "\n",
        "-X1 + 3X2 +5 X3 ≥ 8\n",
        "\n",
        "2X1 + 5X2 - 4X3 ≤4\n",
        "\n",
        "X1 ,X2 , X3 ≥0\n",
        "\n",
        "\n",
        "\n",
        "\n"
      ]
    },
    {
      "cell_type": "code",
      "metadata": {
        "id": "3g3w2AZubZ71"
      },
      "source": [
        "c = [3, -4, 3]\n",
        "A = [[5, 6, 2], [1, -3, -5], [2, 5, -4]]\n",
        "b = [5, -8, 4]"
      ],
      "execution_count": 7,
      "outputs": []
    },
    {
      "cell_type": "code",
      "metadata": {
        "id": "TlL6rFbms_IZ"
      },
      "source": [
        "x1_bound = (0, None)\n",
        "x2_bound = (0, None)\n",
        "x3_bound = (0, None)"
      ],
      "execution_count": 8,
      "outputs": []
    },
    {
      "cell_type": "code",
      "metadata": {
        "id": "-53DCEMos_Mu"
      },
      "source": [
        "solution = linprog(c, A, b, bounds=[x1_bound, x2_bound, x3_bound], method = \"simplex\")"
      ],
      "execution_count": 9,
      "outputs": []
    },
    {
      "cell_type": "code",
      "metadata": {
        "colab": {
          "base_uri": "https://localhost:8080/"
        },
        "id": "9cyfRvw7s_Q2",
        "outputId": "98ac32a0-24dd-4ae1-c07f-eba50268e458"
      },
      "source": [
        "solution"
      ],
      "execution_count": 10,
      "outputs": [
        {
          "output_type": "execute_result",
          "data": {
            "text/plain": [
              "     con: array([], dtype=float64)\n",
              "     fun: 2.624999999999999\n",
              " message: 'Optimization terminated successfully.'\n",
              "     nit: 3\n",
              "   slack: array([ 0.0000000e+00, -8.8817842e-16,  7.6250000e+00])\n",
              "  status: 0\n",
              " success: True\n",
              "       x: array([0.   , 0.375, 1.375])"
            ]
          },
          "metadata": {},
          "execution_count": 10
        }
      ]
    },
    {
      "cell_type": "markdown",
      "metadata": {
        "id": "_0oYnR4gbauv"
      },
      "source": [
        "Q3)\tmaximize  Z = 2X1 + 4X2 + 4X3  -3X4\n",
        "\n",
        "Subject to,\n",
        "\n",
        " X1 + X2 + X3 = 4\n",
        "\n",
        "X1 + 4X2 + X4 =8\n",
        "\n",
        "3X1 + 4X2 + 2X3 =8\n",
        "\n",
        "X1 ,X2 , X3 , X4 ≥0"
      ]
    },
    {
      "cell_type": "code",
      "metadata": {
        "id": "7KNKgZcxbf9h"
      },
      "source": [
        "c = [-2, -4, -4, 3]\n",
        "A = [[1, 1, 1, 0], [1, 4, 0,1], [3 , 4, 2, 0]]\n",
        "b = [4, 8, 8]"
      ],
      "execution_count": 11,
      "outputs": []
    },
    {
      "cell_type": "code",
      "metadata": {
        "id": "hZrA6GbitGvY"
      },
      "source": [
        "x1_bound = (0, None)\n",
        "x2_bound = (0, None)\n",
        "x3_bound = (0, None)\n",
        "x4_bound = (0, None)"
      ],
      "execution_count": 12,
      "outputs": []
    },
    {
      "cell_type": "code",
      "metadata": {
        "id": "94hz4WzNtGz6"
      },
      "source": [
        "solution = linprog(c, A_eq = A, b_eq= b, bounds=(x1_bound, x2_bound, x3_bound, x4_bound), method = \"simplex\")"
      ],
      "execution_count": 13,
      "outputs": []
    },
    {
      "cell_type": "code",
      "metadata": {
        "colab": {
          "base_uri": "https://localhost:8080/"
        },
        "id": "RVyqdbM2tG3V",
        "outputId": "04e2e7fa-e110-449b-f839-75cde026d2a5"
      },
      "source": [
        "solution"
      ],
      "execution_count": 14,
      "outputs": [
        {
          "output_type": "execute_result",
          "data": {
            "text/plain": [
              "     con: array([0., 0., 0.])\n",
              "     fun: 8.0\n",
              " message: 'Optimization terminated successfully.'\n",
              "     nit: 3\n",
              "   slack: array([], dtype=float64)\n",
              "  status: 0\n",
              " success: True\n",
              "       x: array([0., 0., 4., 8.])"
            ]
          },
          "metadata": {},
          "execution_count": 14
        }
      ]
    }
  ]
}
