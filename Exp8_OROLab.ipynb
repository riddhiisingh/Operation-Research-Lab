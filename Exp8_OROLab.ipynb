{
  "nbformat": 4,
  "nbformat_minor": 0,
  "metadata": {
    "colab": {
      "name": "Exp8_OROLab",
      "provenance": [],
      "authorship_tag": "ABX9TyNSRdqi/WIO880N4bxtXNji",
      "include_colab_link": true
    },
    "kernelspec": {
      "name": "python3",
      "display_name": "Python 3"
    },
    "language_info": {
      "name": "python"
    }
  },
  "cells": [
    {
      "cell_type": "markdown",
      "metadata": {
        "id": "view-in-github",
        "colab_type": "text"
      },
      "source": [
        "<a href=\"https://colab.research.google.com/github/riddhiisingh/Operation-Research-Lab/blob/main/Exp8_OROLab.ipynb\" target=\"_parent\"><img src=\"https://colab.research.google.com/assets/colab-badge.svg\" alt=\"Open In Colab\"/></a>"
      ]
    },
    {
      "cell_type": "markdown",
      "metadata": {
        "id": "HcfAV7bC2xAW"
      },
      "source": [
        "Experiment 8\n"
      ]
    },
    {
      "cell_type": "markdown",
      "metadata": {
        "id": "gIJfMCVE2bjJ"
      },
      "source": [
        "![image.png](data:image/png;base64,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)"
      ]
    },
    {
      "cell_type": "code",
      "metadata": {
        "id": "ntOFltGH2t0b"
      },
      "source": [
        "from scipy.optimize import linprog"
      ],
      "execution_count": 1,
      "outputs": []
    },
    {
      "cell_type": "code",
      "metadata": {
        "id": "mnqK1WrJ2t3b"
      },
      "source": [
        "obj1 = [1, 1]"
      ],
      "execution_count": 2,
      "outputs": []
    },
    {
      "cell_type": "code",
      "metadata": {
        "id": "0uuU_IZx29bn"
      },
      "source": [
        "lhs_ineq1 = [[ 1,  1],[3,  -1]]"
      ],
      "execution_count": 3,
      "outputs": []
    },
    {
      "cell_type": "code",
      "metadata": {
        "id": "4aoTZ3uB29e9"
      },
      "source": [
        "rhs_ineq1 = [1,-3]"
      ],
      "execution_count": 4,
      "outputs": []
    },
    {
      "cell_type": "code",
      "metadata": {
        "id": "hlq9jgGi2t5v"
      },
      "source": [
        "bnd1 = [(0, float(\"inf\")), (0, float(\"inf\"))]"
      ],
      "execution_count": 5,
      "outputs": []
    },
    {
      "cell_type": "code",
      "metadata": {
        "colab": {
          "base_uri": "https://localhost:8080/"
        },
        "id": "ofzn69rU2t8I",
        "outputId": "a68d7335-28c9-4a81-91c1-38438dc03bc5"
      },
      "source": [
        "opt1 = linprog(c=obj1, A_ub=lhs_ineq1, b_ub=rhs_ineq1, bounds=bnd1, method=\"revised simplex\")\n",
        "opt1"
      ],
      "execution_count": 6,
      "outputs": [
        {
          "output_type": "execute_result",
          "data": {
            "text/plain": [
              "     con: array([], dtype=float64)\n",
              "     fun: 1.0\n",
              " message: 'The problem appears infeasible, as the phase one auxiliary problem terminated successfully with a residual of 2.0e+00, greater than the tolerance 1e-12 required for the solution to be considered feasible. Consider increasing the tolerance to be greater than 2.0e+00. If this tolerance is unnaceptably large, the problem is likely infeasible.'\n",
              "     nit: 1\n",
              "   slack: array([ 0., -2.])\n",
              "  status: 2\n",
              " success: False\n",
              "       x: array([0., 1.])"
            ]
          },
          "metadata": {},
          "execution_count": 6
        }
      ]
    },
    {
      "cell_type": "markdown",
      "metadata": {
        "id": "ANZ1_Abt3JvV"
      },
      "source": [
        "![image.png](data:image/png;base64,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)"
      ]
    },
    {
      "cell_type": "code",
      "metadata": {
        "id": "yfjfqSZQ3Lwv"
      },
      "source": [
        "obj2 = [-2, -4]"
      ],
      "execution_count": 7,
      "outputs": []
    },
    {
      "cell_type": "code",
      "metadata": {
        "id": "9Vd2AYdI3QAr"
      },
      "source": [
        "lhs_ineq2 = [[ 1,2],[1,1]]"
      ],
      "execution_count": 8,
      "outputs": []
    },
    {
      "cell_type": "code",
      "metadata": {
        "id": "xPswsMxY3QDD"
      },
      "source": [
        "rhs_ineq2 = [5,4]"
      ],
      "execution_count": 9,
      "outputs": []
    },
    {
      "cell_type": "code",
      "metadata": {
        "id": "N0paRst63QFd"
      },
      "source": [
        "bnd2 = [(0, float(\"inf\")), (0, float(\"inf\"))]"
      ],
      "execution_count": 10,
      "outputs": []
    },
    {
      "cell_type": "code",
      "metadata": {
        "colab": {
          "base_uri": "https://localhost:8080/"
        },
        "id": "SQvU3chA3Lzm",
        "outputId": "18c185ed-cc46-42ff-e4a7-a0134deebbb3"
      },
      "source": [
        "opt2 = linprog(c=obj2, A_ub=lhs_ineq2, b_ub=rhs_ineq2, bounds=bnd2, method=\"revised simplex\")\n",
        "opt2"
      ],
      "execution_count": 11,
      "outputs": [
        {
          "output_type": "execute_result",
          "data": {
            "text/plain": [
              "     con: array([], dtype=float64)\n",
              "     fun: -10.0\n",
              " message: 'Optimization terminated successfully.'\n",
              "     nit: 1\n",
              "   slack: array([0. , 1.5])\n",
              "  status: 0\n",
              " success: True\n",
              "       x: array([0. , 2.5])"
            ]
          },
          "metadata": {},
          "execution_count": 11
        }
      ]
    },
    {
      "cell_type": "markdown",
      "metadata": {
        "id": "dN3Mf2Bv3Z6-"
      },
      "source": [
        "![image.png](data:image/png;base64,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)"
      ]
    },
    {
      "cell_type": "code",
      "metadata": {
        "id": "dYXRml2y3esW"
      },
      "source": [
        "obj3 = [-2,-1]"
      ],
      "execution_count": 12,
      "outputs": []
    },
    {
      "cell_type": "code",
      "metadata": {
        "id": "mXJxSouk3evr"
      },
      "source": [
        "lhs_ineq3 = [[ 1,-1],[2,0]]"
      ],
      "execution_count": 13,
      "outputs": []
    },
    {
      "cell_type": "code",
      "metadata": {
        "id": "5Z739Fzc3ius"
      },
      "source": [
        "rhs_ineq3 = [10,40]"
      ],
      "execution_count": 14,
      "outputs": []
    },
    {
      "cell_type": "code",
      "metadata": {
        "id": "gj0tLEik3izk"
      },
      "source": [
        "bnd3 = [(0, float(\"inf\")), (0, float(\"inf\"))]"
      ],
      "execution_count": 15,
      "outputs": []
    },
    {
      "cell_type": "code",
      "metadata": {
        "colab": {
          "base_uri": "https://localhost:8080/"
        },
        "id": "wWOGHvzT3i2p",
        "outputId": "3fdf71b3-5cce-4419-a668-a4fd9a1780f4"
      },
      "source": [
        "opt3 = linprog(c=obj3, A_ub=lhs_ineq3, b_ub=rhs_ineq3, bounds=bnd3, method=\"revised simplex\")\n",
        "opt3"
      ],
      "execution_count": 16,
      "outputs": [
        {
          "output_type": "execute_result",
          "data": {
            "text/plain": [
              "     con: array([], dtype=float64)\n",
              "     fun: -50.0\n",
              " message: 'The problem is unbounded, as the simplex algorithm found a basic feasible solution from which there is a direction with negative reduced cost in which all decision variables increase.'\n",
              "     nit: 2\n",
              "   slack: array([0., 0.])\n",
              "  status: 3\n",
              " success: False\n",
              "       x: array([20., 10.])"
            ]
          },
          "metadata": {},
          "execution_count": 16
        }
      ]
    },
    {
      "cell_type": "markdown",
      "metadata": {
        "id": "oW6qIpAd3ltA"
      },
      "source": [
        "![image.png](data:image/png;base64,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)"
      ]
    },
    {
      "cell_type": "code",
      "metadata": {
        "id": "trxmSixl3n_N"
      },
      "source": [
        "obj4 = [3,2]"
      ],
      "execution_count": 17,
      "outputs": []
    },
    {
      "cell_type": "code",
      "metadata": {
        "id": "q5rXwcbE3oFr"
      },
      "source": [
        "lhs_ineq4 = [[ 2,1],[-3,-4]]"
      ],
      "execution_count": 18,
      "outputs": []
    },
    {
      "cell_type": "code",
      "metadata": {
        "id": "718cnfzx3oIN"
      },
      "source": [
        "rhs_ineq4 = [2,-12]"
      ],
      "execution_count": 19,
      "outputs": []
    },
    {
      "cell_type": "code",
      "metadata": {
        "id": "Sf1p_lZE3oKm"
      },
      "source": [
        "bnd4 = [(0, float(\"inf\")), (0, float(\"inf\"))]"
      ],
      "execution_count": 20,
      "outputs": []
    },
    {
      "cell_type": "code",
      "metadata": {
        "colab": {
          "base_uri": "https://localhost:8080/"
        },
        "id": "ERH4UiVW3oNN",
        "outputId": "2cdc9a9f-83b0-435e-ef24-65e36859e19d"
      },
      "source": [
        "opt4 = linprog(c=obj4, A_ub=lhs_ineq4, b_ub=rhs_ineq4, bounds=bnd4, method=\"revised simplex\")\n",
        "opt4"
      ],
      "execution_count": 22,
      "outputs": [
        {
          "output_type": "execute_result",
          "data": {
            "text/plain": [
              "     con: array([], dtype=float64)\n",
              "     fun: 4.0\n",
              " message: 'The problem appears infeasible, as the phase one auxiliary problem terminated successfully with a residual of 4.0e+00, greater than the tolerance 1e-12 required for the solution to be considered feasible. Consider increasing the tolerance to be greater than 4.0e+00. If this tolerance is unnaceptably large, the problem is likely infeasible.'\n",
              "     nit: 1\n",
              "   slack: array([ 0., -4.])\n",
              "  status: 2\n",
              " success: False\n",
              "       x: array([0., 2.])"
            ]
          },
          "metadata": {},
          "execution_count": 22
        }
      ]
    }
  ]
}